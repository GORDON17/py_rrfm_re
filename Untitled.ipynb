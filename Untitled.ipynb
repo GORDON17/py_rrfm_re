{
 "cells": [
  {
   "cell_type": "code",
   "execution_count": 35,
   "metadata": {
    "collapsed": false
   },
   "outputs": [],
   "source": [
    "import os, json, gc\n",
    "import pandas as pd\n",
    "import numpy as np\n",
    "from scipy.spatial import distance\n",
    "from scipy.stats import pearsonr\n",
    "from urllib2 import Request, urlopen\n",
    "from pandas.io.json import json_normalize\n",
    "\n",
    "\n",
    "\n",
    "BASE_URI = \"http://0.0.0.0:3000/\"\n",
    "SOCIAL_INTERESTS_URI = BASE_URI + \"api/v4/re/interests/social\"\n",
    "BUSINESS_INTERESTS_URI = BASE_URI + \"api/v4/re/interests/business\"\n",
    "LIFESTYLE_INTERESTS_URI = BASE_URI + \"api/v4/re/interests/lifestyle\"\n",
    "EVENT_TYPES_URI = BASE_URI + \"api/v4/re/events/types\"\n",
    "CONNECTIONS_URI = BASE_URI + \"api/v4/re/connections\"\n",
    "ACCOUNTS_URI = BASE_URI + \"api/v4/re/accounts\"\n",
    "\n",
    "def _request_data(uri):\n",
    "    print (\"Sending request to:\", uri)\n",
    "    request=Request(uri)\n",
    "    data = json.loads(urlopen(request).read())\n",
    "    df = pd.DataFrame(data)\n",
    "    print (\"Data shape:\", df.shape)\n",
    "    return df\n",
    "\n",
    "def _process_interest_similarity(uri):\n",
    "#     df_accounts = get_accounts()\n",
    "    df_profile = _request_data(uri)\n",
    "    structured_df = _manipulate_profile_matrix(df_profile)\n",
    "    del df_profile\n",
    "    gc.collect()\n",
    "    \n",
    "    df_profile_t = structured_df[structured_df.columns[2:]]\n",
    "    df_interest_sim = _calculate_similarity(df_profile_t)\n",
    "#     print df_interest_sim\n",
    "    for index, profile in structured_df[['account_id', 'location']].iterrows():\n",
    "        if index == 1:\n",
    "            \n",
    "            sim_for_account = df_interest_sim[index].tolist()\n",
    "            sim_list = pd.Series(sim_for_account)\n",
    "            df = structured_df[['account_id', 'location']].copy()\n",
    "            df['interest_similarity'] = 1 - sim_list.values\n",
    "            df['interest_count'] = (1 - sim_list.values) * len(df_profile_t.columns)\n",
    "            df['interest_count'] = df['interest_count'].astype(int)\n",
    "            \n",
    "            df_profile_f = df[(df.location == '') | (df.location == 'empty') | (df.location.str.contains(profile.location))]\n",
    "            df_profile_r = df_profile_f.sort_values(by='interest_similarity', ascending=0)[1:20]\n",
    "#         update_interest_similarity_for_account(profile.account_id, df, type)\n",
    "            \n",
    "\n",
    "\n",
    "def _manipulate_profile_matrix(df):\n",
    "    df_profile = df.copy()\n",
    "    df_profile[['account_id']] = df_profile[['account_id']].astype(int)\n",
    "    df_profile['location'].fillna('empty', inplace=True)\n",
    "    df_profile_t = pd.pivot_table(df_profile, index=['account_id', 'location'], columns=['social'], values='indicator')\n",
    "    del df_profile\n",
    "    gc.collect()\n",
    "\n",
    "    df_profile_t = df_profile_t.reset_index()\n",
    "    df_profile_t = df_profile_t.fillna(value=0)\n",
    "    df_profile_f = df_profile_t.dropna()\n",
    "    del df_profile_t\n",
    "    gc.collect()\n",
    "\n",
    "    df_profile_s = df_profile_f.sort_values(by='account_id', ascending=True)\n",
    "    del df_profile_f\n",
    "    gc.collect()\n",
    "\n",
    "    df_profile_s.reset_index(drop=True, inplace=True)\n",
    "    return df_profile_s\n",
    "\n",
    "\n",
    "\n",
    "\n",
    "\n",
    "def _calculate_similarity(df):\n",
    "    profile_d = distance.pdist(df, metric='matching')\n",
    "    profile_D = distance.squareform(profile_d)\n",
    "\n",
    "    del profile_d\n",
    "    gc.collect()\n",
    "    \n",
    "    return profile_D"
   ]
  },
  {
   "cell_type": "code",
   "execution_count": 36,
   "metadata": {
    "collapsed": false
   },
   "outputs": [
    {
     "name": "stdout",
     "output_type": "stream",
     "text": [
      "('Sending request to:', 'http://0.0.0.0:3000/api/v4/re/interests/social')\n",
      "('Data shape:', (170758, 4))\n",
      "social  account_id      location  interest_similarity  interest_count\n",
      "1               11  New York, NY             1.000000              53\n",
      "1759         13350  New York, NY             0.962264              51\n",
      "3372         17891                           0.962264              51\n",
      "1978         13784                           0.962264              51\n",
      "1940         13727                           0.943396              50\n",
      "77             118  New York, NY             0.943396              50\n",
      "63             101  New York, NY             0.943396              50\n",
      "55              86  New York, NY             0.943396              50\n",
      "1861         13566                           0.943396              50\n",
      "5388         25428  New York, NY             0.943396              50\n",
      "3427         18001  New York, NY             0.943396              50\n",
      "947           7104                           0.943396              50\n",
      "5084         23783                           0.943396              50\n",
      "3855         19289                           0.943396              50\n",
      "2158         14100                           0.943396              50\n",
      "2320         14376  New York, NY             0.943396              50\n",
      "2377         14480  New York, NY             0.943396              50\n",
      "596           4023                           0.943396              50\n",
      "1632         13102  New York, NY             0.943396              50\n",
      "406           2450                           0.943396              50\n",
      "1782         13399  New York, NY             0.943396              50\n"
     ]
    }
   ],
   "source": [
    "_process_interest_similarity(SOCIAL_INTERESTS_URI)"
   ]
  },
  {
   "cell_type": "code",
   "execution_count": null,
   "metadata": {
    "collapsed": true
   },
   "outputs": [],
   "source": []
  }
 ],
 "metadata": {
  "kernelspec": {
   "display_name": "Python 2",
   "language": "python",
   "name": "python2"
  },
  "language_info": {
   "codemirror_mode": {
    "name": "ipython",
    "version": 2
   },
   "file_extension": ".py",
   "mimetype": "text/x-python",
   "name": "python",
   "nbconvert_exporter": "python",
   "pygments_lexer": "ipython2",
   "version": "2.7.10"
  }
 },
 "nbformat": 4,
 "nbformat_minor": 2
}
