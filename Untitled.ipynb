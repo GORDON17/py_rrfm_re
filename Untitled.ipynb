{
 "cells": [
  {
   "cell_type": "code",
   "execution_count": null,
   "metadata": {},
   "outputs": [
    {
     "name": "stdout",
     "output_type": "stream",
     "text": [
      "('Sending request to:', 'http://localhost:3000/api/v4/re/interests/social?limit=1000&offset=0')\n",
      "('Sending request to:', 'http://localhost:3000/api/v4/re/interests/social?limit=1000&offset=1000')\n",
      "('Sending request to:', 'http://localhost:3000/api/v4/re/interests/social?limit=1000&offset=2000')\n",
      "('Sending request to:', 'http://localhost:3000/api/v4/re/interests/social?limit=1000&offset=3000')\n",
      "('Sending request to:', 'http://localhost:3000/api/v4/re/interests/social?limit=1000&offset=4000')\n"
     ]
    }
   ],
   "source": [
    "import os, json, gc, copy\n",
    "from urllib import urlencode\n",
    "from urllib2 import Request, urlopen\n",
    "RAILS_TOKEN = 'c30a7641-0d2b-4fdc-9cd5-1c2d85905726'\n",
    "\n",
    "def _request_data(uri='http://localhost:3000/api/v4/re/interests/social'):\n",
    "    offset = 0\n",
    "    limit = 1000\n",
    "    data = []\n",
    "    \n",
    "    while True:\n",
    "        params = urlencode({'limit':limit, 'offset':offset})\n",
    "        url = uri + '?' + params\n",
    "        print (\"Sending request to:\", url)\n",
    "        request = Request(url)\n",
    "        request.add_header('HTTP_X_IVY_SESSION_TOKEN', RAILS_TOKEN)\n",
    "        data += json.loads(urlopen(request).read())\n",
    "\n",
    "        if len(data) == 0:\n",
    "            break\n",
    "        else:\n",
    "            offset += limit\n",
    "        \n",
    "    print(len(data))\n",
    "    \n",
    "_request_data()"
   ]
  },
  {
   "cell_type": "code",
   "execution_count": null,
   "metadata": {
    "collapsed": true
   },
   "outputs": [],
   "source": []
  }
 ],
 "metadata": {
  "kernelspec": {
   "display_name": "Python 2",
   "language": "python",
   "name": "python2"
  },
  "language_info": {
   "codemirror_mode": {
    "name": "ipython",
    "version": 2
   },
   "file_extension": ".py",
   "mimetype": "text/x-python",
   "name": "python",
   "nbconvert_exporter": "python",
   "pygments_lexer": "ipython2",
   "version": "2.7.13"
  }
 },
 "nbformat": 4,
 "nbformat_minor": 2
}
